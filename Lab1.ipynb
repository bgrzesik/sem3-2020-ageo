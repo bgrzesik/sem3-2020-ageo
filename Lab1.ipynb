{
 "cells": [
  {
   "cell_type": "code",
   "execution_count": 1,
   "metadata": {},
   "outputs": [],
   "source": [
    "from geo_tool import *\n",
    "import numpy as np\n",
    "import pandas as pd\n",
    "import seaborn as sns\n",
    "from IPython.display import Markdown\n",
    "%matplotlib widget\n",
    "sns.set_theme()"
   ]
  },
  {
   "cell_type": "code",
   "execution_count": 2,
   "metadata": {},
   "outputs": [],
   "source": [
    "\n",
    "from random import Random\n",
    "\n",
    "def split_points(points, det, epsilon):\n",
    "    l_zero = []\n",
    "    e_zero = []\n",
    "    g_zero = []\n",
    "\n",
    "    for p in points:\n",
    "        d = det(p, (-1.0, 0.0), (1.0, 0.1))\n",
    "        if abs(d) < epsilon:\n",
    "            e_zero.append(p)\n",
    "        elif d > 0:\n",
    "            g_zero.append(p)\n",
    "        else:\n",
    "            l_zero.append(p)        \n",
    "    \n",
    "    return l_zero, e_zero, g_zero\n",
    "\n",
    "def viz(points, det, epsilon):\n",
    "    l_zero, e_zero, g_zero = split_points(points, det, epsilon)\n",
    "\n",
    "    print(\"len({ p == 0 }) = \", len(e_zero))\n",
    "    print(\"len({ p < 0 }) = \", len(l_zero))\n",
    "    print(\"len({ p > 0 }) = \", len(g_zero))\n",
    "            \n",
    "    scenes = Scene([PointsCollection(g_zero, color=\"red\"),\n",
    "                    PointsCollection(l_zero, color=\"blue\"),\n",
    "                    PointsCollection(e_zero, color=\"green\"),],\n",
    "                   [LinesCollection([[(-1.0 * 110, 0.0 ), (1.0 * 110, 0.1 * 110)]], color=\"magenta\")])\n",
    "    plot = Plot([scenes])\n",
    "    plot.draw()"
   ]
  },
  {
   "cell_type": "code",
   "execution_count": 3,
   "metadata": {},
   "outputs": [],
   "source": [
    "    \n",
    "def det_lib_2x2(a, b, c):\n",
    "    return np.linalg.det(np.array([[a[0] - c[0], a[1] - c[1]], [b[0] - c[0], b[1] - c[1]]]))\n",
    "\n",
    "def det_my_2x2(a, b, c):\n",
    "    m00 = a[0] - c[0]\n",
    "    m10 = a[1] - c[1]\n",
    "    m01 = b[0] - c[0]\n",
    "    m11 = b[1] - c[1]\n",
    "    return m00 * m11 - m10 * m01\n",
    "\n",
    "def det_lib_3x3(a, b, c):\n",
    "    return np.linalg.det(np.array([[a[0], a[1], 1], [b[0], b[1], 1], [c[0], c[1], 1]]))\n",
    "\n",
    "def det_my_3x3(a, b, c):\n",
    "    #  a[0]  a[1]   1\n",
    "    #  b[0]  b[1]   1\n",
    "    #  c[0]  c[1]   1\n",
    "    return a[0] * b[1] + \\\n",
    "           a[1] * c[0] + \\\n",
    "           b[0] * c[1] - \\\n",
    "           b[1] * c[0] - \\\n",
    "           c[1] * a[0] - \\\n",
    "           b[0] * a[1]\n",
    "dets = {\n",
    "    \"Biblioteczny 2x2\": det_lib_2x2,\n",
    "    \"Własna implementacja 2x2\": det_my_2x2,\n",
    "    \"Biblioteczna 3x3\": det_lib_3x3,\n",
    "    \"Własna implementacja 3x3\": det_my_3x3,\n",
    "}"
   ]
  },
  {
   "cell_type": "code",
   "execution_count": 4,
   "metadata": {},
   "outputs": [],
   "source": [
    "def compare_dets(points, epsilon):\n",
    "    dets_results = {}\n",
    "\n",
    "    for name, det in dets.items():\n",
    "        l_zero, e_zero, g_zero = split_points(points, det, epsilon)\n",
    "        dets_results[name] = (len(l_zero), len(e_zero), len(g_zero))       \n",
    "\n",
    "    def cmp(name, det):\n",
    "        results = [None] * len(dets)\n",
    "        for i, kv in enumerate(dets.items()):\n",
    "            name2 = kv[0]\n",
    "            if name == name2:\n",
    "                results[i] = \"/\"\n",
    "                continue\n",
    "\n",
    "            results[i] = (\n",
    "                dets_results[name][0] - dets_results[name2][0],\n",
    "                dets_results[name][1] - dets_results[name2][1],\n",
    "                dets_results[name][2] - dets_results[name2][2],\n",
    "            )\n",
    "        return results\n",
    "        \n",
    "    dr = pd.DataFrame({ name: dets_results[name] for name, det in dets.items() }, index=[\"<0\", \"==0\", \">0\"])\n",
    "    cmps = pd.DataFrame({ name: cmp(name, det) for name, det in dets.items() }, index=dets.keys())\n",
    "    \n",
    "    return dr, cmps"
   ]
  },
  {
   "cell_type": "code",
   "execution_count": 5,
   "metadata": {},
   "outputs": [
    {
     "data": {
      "text/markdown": [
       "## ε = 100.0"
      ],
      "text/plain": [
       "<IPython.core.display.Markdown object>"
      ]
     },
     "metadata": {},
     "output_type": "display_data"
    },
    {
     "data": {
      "text/markdown": [
       "### Wyniki"
      ],
      "text/plain": [
       "<IPython.core.display.Markdown object>"
      ]
     },
     "metadata": {},
     "output_type": "display_data"
    },
    {
     "data": {
      "text/html": [
       "<div>\n",
       "<style scoped>\n",
       "    .dataframe tbody tr th:only-of-type {\n",
       "        vertical-align: middle;\n",
       "    }\n",
       "\n",
       "    .dataframe tbody tr th {\n",
       "        vertical-align: top;\n",
       "    }\n",
       "\n",
       "    .dataframe thead th {\n",
       "        text-align: right;\n",
       "    }\n",
       "</style>\n",
       "<table border=\"1\" class=\"dataframe\">\n",
       "  <thead>\n",
       "    <tr style=\"text-align: right;\">\n",
       "      <th></th>\n",
       "      <th>Biblioteczny 2x2</th>\n",
       "      <th>Własna implementacja 2x2</th>\n",
       "      <th>Biblioteczna 3x3</th>\n",
       "      <th>Własna implementacja 3x3</th>\n",
       "    </tr>\n",
       "  </thead>\n",
       "  <tbody>\n",
       "    <tr>\n",
       "      <th>&lt;0</th>\n",
       "      <td>47294</td>\n",
       "      <td>47294</td>\n",
       "      <td>47294</td>\n",
       "      <td>47294</td>\n",
       "    </tr>\n",
       "    <tr>\n",
       "      <th>==0</th>\n",
       "      <td>4930</td>\n",
       "      <td>4930</td>\n",
       "      <td>4930</td>\n",
       "      <td>4930</td>\n",
       "    </tr>\n",
       "    <tr>\n",
       "      <th>&gt;0</th>\n",
       "      <td>47776</td>\n",
       "      <td>47776</td>\n",
       "      <td>47776</td>\n",
       "      <td>47776</td>\n",
       "    </tr>\n",
       "  </tbody>\n",
       "</table>\n",
       "</div>"
      ],
      "text/plain": [
       "     Biblioteczny 2x2  Własna implementacja 2x2  Biblioteczna 3x3  \\\n",
       "<0              47294                     47294             47294   \n",
       "==0              4930                      4930              4930   \n",
       ">0              47776                     47776             47776   \n",
       "\n",
       "     Własna implementacja 3x3  \n",
       "<0                      47294  \n",
       "==0                      4930  \n",
       ">0                      47776  "
      ]
     },
     "metadata": {},
     "output_type": "display_data"
    },
    {
     "data": {
      "text/markdown": [
       "### Porównanie"
      ],
      "text/plain": [
       "<IPython.core.display.Markdown object>"
      ]
     },
     "metadata": {},
     "output_type": "display_data"
    },
    {
     "data": {
      "text/html": [
       "<div>\n",
       "<style scoped>\n",
       "    .dataframe tbody tr th:only-of-type {\n",
       "        vertical-align: middle;\n",
       "    }\n",
       "\n",
       "    .dataframe tbody tr th {\n",
       "        vertical-align: top;\n",
       "    }\n",
       "\n",
       "    .dataframe thead th {\n",
       "        text-align: right;\n",
       "    }\n",
       "</style>\n",
       "<table border=\"1\" class=\"dataframe\">\n",
       "  <thead>\n",
       "    <tr style=\"text-align: right;\">\n",
       "      <th></th>\n",
       "      <th>Biblioteczny 2x2</th>\n",
       "      <th>Własna implementacja 2x2</th>\n",
       "      <th>Biblioteczna 3x3</th>\n",
       "      <th>Własna implementacja 3x3</th>\n",
       "    </tr>\n",
       "  </thead>\n",
       "  <tbody>\n",
       "    <tr>\n",
       "      <th>Biblioteczny 2x2</th>\n",
       "      <td>/</td>\n",
       "      <td>(0, 0, 0)</td>\n",
       "      <td>(0, 0, 0)</td>\n",
       "      <td>(0, 0, 0)</td>\n",
       "    </tr>\n",
       "    <tr>\n",
       "      <th>Własna implementacja 2x2</th>\n",
       "      <td>(0, 0, 0)</td>\n",
       "      <td>/</td>\n",
       "      <td>(0, 0, 0)</td>\n",
       "      <td>(0, 0, 0)</td>\n",
       "    </tr>\n",
       "    <tr>\n",
       "      <th>Biblioteczna 3x3</th>\n",
       "      <td>(0, 0, 0)</td>\n",
       "      <td>(0, 0, 0)</td>\n",
       "      <td>/</td>\n",
       "      <td>(0, 0, 0)</td>\n",
       "    </tr>\n",
       "    <tr>\n",
       "      <th>Własna implementacja 3x3</th>\n",
       "      <td>(0, 0, 0)</td>\n",
       "      <td>(0, 0, 0)</td>\n",
       "      <td>(0, 0, 0)</td>\n",
       "      <td>/</td>\n",
       "    </tr>\n",
       "  </tbody>\n",
       "</table>\n",
       "</div>"
      ],
      "text/plain": [
       "                         Biblioteczny 2x2 Własna implementacja 2x2  \\\n",
       "Biblioteczny 2x2                        /                (0, 0, 0)   \n",
       "Własna implementacja 2x2        (0, 0, 0)                        /   \n",
       "Biblioteczna 3x3                (0, 0, 0)                (0, 0, 0)   \n",
       "Własna implementacja 3x3        (0, 0, 0)                (0, 0, 0)   \n",
       "\n",
       "                         Biblioteczna 3x3 Własna implementacja 3x3  \n",
       "Biblioteczny 2x2                (0, 0, 0)                (0, 0, 0)  \n",
       "Własna implementacja 2x2        (0, 0, 0)                (0, 0, 0)  \n",
       "Biblioteczna 3x3                        /                (0, 0, 0)  \n",
       "Własna implementacja 3x3        (0, 0, 0)                        /  "
      ]
     },
     "metadata": {},
     "output_type": "display_data"
    },
    {
     "data": {
      "text/markdown": [
       "## ε = 10.0"
      ],
      "text/plain": [
       "<IPython.core.display.Markdown object>"
      ]
     },
     "metadata": {},
     "output_type": "display_data"
    },
    {
     "data": {
      "text/markdown": [
       "### Wyniki"
      ],
      "text/plain": [
       "<IPython.core.display.Markdown object>"
      ]
     },
     "metadata": {},
     "output_type": "display_data"
    },
    {
     "data": {
      "text/html": [
       "<div>\n",
       "<style scoped>\n",
       "    .dataframe tbody tr th:only-of-type {\n",
       "        vertical-align: middle;\n",
       "    }\n",
       "\n",
       "    .dataframe tbody tr th {\n",
       "        vertical-align: top;\n",
       "    }\n",
       "\n",
       "    .dataframe thead th {\n",
       "        text-align: right;\n",
       "    }\n",
       "</style>\n",
       "<table border=\"1\" class=\"dataframe\">\n",
       "  <thead>\n",
       "    <tr style=\"text-align: right;\">\n",
       "      <th></th>\n",
       "      <th>Biblioteczny 2x2</th>\n",
       "      <th>Własna implementacja 2x2</th>\n",
       "      <th>Biblioteczna 3x3</th>\n",
       "      <th>Własna implementacja 3x3</th>\n",
       "    </tr>\n",
       "  </thead>\n",
       "  <tbody>\n",
       "    <tr>\n",
       "      <th>&lt;0</th>\n",
       "      <td>49536</td>\n",
       "      <td>49536</td>\n",
       "      <td>49536</td>\n",
       "      <td>49536</td>\n",
       "    </tr>\n",
       "    <tr>\n",
       "      <th>==0</th>\n",
       "      <td>527</td>\n",
       "      <td>527</td>\n",
       "      <td>527</td>\n",
       "      <td>527</td>\n",
       "    </tr>\n",
       "    <tr>\n",
       "      <th>&gt;0</th>\n",
       "      <td>49937</td>\n",
       "      <td>49937</td>\n",
       "      <td>49937</td>\n",
       "      <td>49937</td>\n",
       "    </tr>\n",
       "  </tbody>\n",
       "</table>\n",
       "</div>"
      ],
      "text/plain": [
       "     Biblioteczny 2x2  Własna implementacja 2x2  Biblioteczna 3x3  \\\n",
       "<0              49536                     49536             49536   \n",
       "==0               527                       527               527   \n",
       ">0              49937                     49937             49937   \n",
       "\n",
       "     Własna implementacja 3x3  \n",
       "<0                      49536  \n",
       "==0                       527  \n",
       ">0                      49937  "
      ]
     },
     "metadata": {},
     "output_type": "display_data"
    },
    {
     "data": {
      "text/markdown": [
       "### Porównanie"
      ],
      "text/plain": [
       "<IPython.core.display.Markdown object>"
      ]
     },
     "metadata": {},
     "output_type": "display_data"
    },
    {
     "data": {
      "text/html": [
       "<div>\n",
       "<style scoped>\n",
       "    .dataframe tbody tr th:only-of-type {\n",
       "        vertical-align: middle;\n",
       "    }\n",
       "\n",
       "    .dataframe tbody tr th {\n",
       "        vertical-align: top;\n",
       "    }\n",
       "\n",
       "    .dataframe thead th {\n",
       "        text-align: right;\n",
       "    }\n",
       "</style>\n",
       "<table border=\"1\" class=\"dataframe\">\n",
       "  <thead>\n",
       "    <tr style=\"text-align: right;\">\n",
       "      <th></th>\n",
       "      <th>Biblioteczny 2x2</th>\n",
       "      <th>Własna implementacja 2x2</th>\n",
       "      <th>Biblioteczna 3x3</th>\n",
       "      <th>Własna implementacja 3x3</th>\n",
       "    </tr>\n",
       "  </thead>\n",
       "  <tbody>\n",
       "    <tr>\n",
       "      <th>Biblioteczny 2x2</th>\n",
       "      <td>/</td>\n",
       "      <td>(0, 0, 0)</td>\n",
       "      <td>(0, 0, 0)</td>\n",
       "      <td>(0, 0, 0)</td>\n",
       "    </tr>\n",
       "    <tr>\n",
       "      <th>Własna implementacja 2x2</th>\n",
       "      <td>(0, 0, 0)</td>\n",
       "      <td>/</td>\n",
       "      <td>(0, 0, 0)</td>\n",
       "      <td>(0, 0, 0)</td>\n",
       "    </tr>\n",
       "    <tr>\n",
       "      <th>Biblioteczna 3x3</th>\n",
       "      <td>(0, 0, 0)</td>\n",
       "      <td>(0, 0, 0)</td>\n",
       "      <td>/</td>\n",
       "      <td>(0, 0, 0)</td>\n",
       "    </tr>\n",
       "    <tr>\n",
       "      <th>Własna implementacja 3x3</th>\n",
       "      <td>(0, 0, 0)</td>\n",
       "      <td>(0, 0, 0)</td>\n",
       "      <td>(0, 0, 0)</td>\n",
       "      <td>/</td>\n",
       "    </tr>\n",
       "  </tbody>\n",
       "</table>\n",
       "</div>"
      ],
      "text/plain": [
       "                         Biblioteczny 2x2 Własna implementacja 2x2  \\\n",
       "Biblioteczny 2x2                        /                (0, 0, 0)   \n",
       "Własna implementacja 2x2        (0, 0, 0)                        /   \n",
       "Biblioteczna 3x3                (0, 0, 0)                (0, 0, 0)   \n",
       "Własna implementacja 3x3        (0, 0, 0)                (0, 0, 0)   \n",
       "\n",
       "                         Biblioteczna 3x3 Własna implementacja 3x3  \n",
       "Biblioteczny 2x2                (0, 0, 0)                (0, 0, 0)  \n",
       "Własna implementacja 2x2        (0, 0, 0)                (0, 0, 0)  \n",
       "Biblioteczna 3x3                        /                (0, 0, 0)  \n",
       "Własna implementacja 3x3        (0, 0, 0)                        /  "
      ]
     },
     "metadata": {},
     "output_type": "display_data"
    },
    {
     "data": {
      "text/markdown": [
       "## ε = 1.0"
      ],
      "text/plain": [
       "<IPython.core.display.Markdown object>"
      ]
     },
     "metadata": {},
     "output_type": "display_data"
    },
    {
     "data": {
      "text/markdown": [
       "### Wyniki"
      ],
      "text/plain": [
       "<IPython.core.display.Markdown object>"
      ]
     },
     "metadata": {},
     "output_type": "display_data"
    },
    {
     "data": {
      "text/html": [
       "<div>\n",
       "<style scoped>\n",
       "    .dataframe tbody tr th:only-of-type {\n",
       "        vertical-align: middle;\n",
       "    }\n",
       "\n",
       "    .dataframe tbody tr th {\n",
       "        vertical-align: top;\n",
       "    }\n",
       "\n",
       "    .dataframe thead th {\n",
       "        text-align: right;\n",
       "    }\n",
       "</style>\n",
       "<table border=\"1\" class=\"dataframe\">\n",
       "  <thead>\n",
       "    <tr style=\"text-align: right;\">\n",
       "      <th></th>\n",
       "      <th>Biblioteczny 2x2</th>\n",
       "      <th>Własna implementacja 2x2</th>\n",
       "      <th>Biblioteczna 3x3</th>\n",
       "      <th>Własna implementacja 3x3</th>\n",
       "    </tr>\n",
       "  </thead>\n",
       "  <tbody>\n",
       "    <tr>\n",
       "      <th>&lt;0</th>\n",
       "      <td>49757</td>\n",
       "      <td>49757</td>\n",
       "      <td>49757</td>\n",
       "      <td>49757</td>\n",
       "    </tr>\n",
       "    <tr>\n",
       "      <th>==0</th>\n",
       "      <td>54</td>\n",
       "      <td>54</td>\n",
       "      <td>54</td>\n",
       "      <td>54</td>\n",
       "    </tr>\n",
       "    <tr>\n",
       "      <th>&gt;0</th>\n",
       "      <td>50189</td>\n",
       "      <td>50189</td>\n",
       "      <td>50189</td>\n",
       "      <td>50189</td>\n",
       "    </tr>\n",
       "  </tbody>\n",
       "</table>\n",
       "</div>"
      ],
      "text/plain": [
       "     Biblioteczny 2x2  Własna implementacja 2x2  Biblioteczna 3x3  \\\n",
       "<0              49757                     49757             49757   \n",
       "==0                54                        54                54   \n",
       ">0              50189                     50189             50189   \n",
       "\n",
       "     Własna implementacja 3x3  \n",
       "<0                      49757  \n",
       "==0                        54  \n",
       ">0                      50189  "
      ]
     },
     "metadata": {},
     "output_type": "display_data"
    },
    {
     "data": {
      "text/markdown": [
       "### Porównanie"
      ],
      "text/plain": [
       "<IPython.core.display.Markdown object>"
      ]
     },
     "metadata": {},
     "output_type": "display_data"
    },
    {
     "data": {
      "text/html": [
       "<div>\n",
       "<style scoped>\n",
       "    .dataframe tbody tr th:only-of-type {\n",
       "        vertical-align: middle;\n",
       "    }\n",
       "\n",
       "    .dataframe tbody tr th {\n",
       "        vertical-align: top;\n",
       "    }\n",
       "\n",
       "    .dataframe thead th {\n",
       "        text-align: right;\n",
       "    }\n",
       "</style>\n",
       "<table border=\"1\" class=\"dataframe\">\n",
       "  <thead>\n",
       "    <tr style=\"text-align: right;\">\n",
       "      <th></th>\n",
       "      <th>Biblioteczny 2x2</th>\n",
       "      <th>Własna implementacja 2x2</th>\n",
       "      <th>Biblioteczna 3x3</th>\n",
       "      <th>Własna implementacja 3x3</th>\n",
       "    </tr>\n",
       "  </thead>\n",
       "  <tbody>\n",
       "    <tr>\n",
       "      <th>Biblioteczny 2x2</th>\n",
       "      <td>/</td>\n",
       "      <td>(0, 0, 0)</td>\n",
       "      <td>(0, 0, 0)</td>\n",
       "      <td>(0, 0, 0)</td>\n",
       "    </tr>\n",
       "    <tr>\n",
       "      <th>Własna implementacja 2x2</th>\n",
       "      <td>(0, 0, 0)</td>\n",
       "      <td>/</td>\n",
       "      <td>(0, 0, 0)</td>\n",
       "      <td>(0, 0, 0)</td>\n",
       "    </tr>\n",
       "    <tr>\n",
       "      <th>Biblioteczna 3x3</th>\n",
       "      <td>(0, 0, 0)</td>\n",
       "      <td>(0, 0, 0)</td>\n",
       "      <td>/</td>\n",
       "      <td>(0, 0, 0)</td>\n",
       "    </tr>\n",
       "    <tr>\n",
       "      <th>Własna implementacja 3x3</th>\n",
       "      <td>(0, 0, 0)</td>\n",
       "      <td>(0, 0, 0)</td>\n",
       "      <td>(0, 0, 0)</td>\n",
       "      <td>/</td>\n",
       "    </tr>\n",
       "  </tbody>\n",
       "</table>\n",
       "</div>"
      ],
      "text/plain": [
       "                         Biblioteczny 2x2 Własna implementacja 2x2  \\\n",
       "Biblioteczny 2x2                        /                (0, 0, 0)   \n",
       "Własna implementacja 2x2        (0, 0, 0)                        /   \n",
       "Biblioteczna 3x3                (0, 0, 0)                (0, 0, 0)   \n",
       "Własna implementacja 3x3        (0, 0, 0)                (0, 0, 0)   \n",
       "\n",
       "                         Biblioteczna 3x3 Własna implementacja 3x3  \n",
       "Biblioteczny 2x2                (0, 0, 0)                (0, 0, 0)  \n",
       "Własna implementacja 2x2        (0, 0, 0)                (0, 0, 0)  \n",
       "Biblioteczna 3x3                        /                (0, 0, 0)  \n",
       "Własna implementacja 3x3        (0, 0, 0)                        /  "
      ]
     },
     "metadata": {},
     "output_type": "display_data"
    },
    {
     "data": {
      "text/markdown": [
       "## ε = 0.1"
      ],
      "text/plain": [
       "<IPython.core.display.Markdown object>"
      ]
     },
     "metadata": {},
     "output_type": "display_data"
    },
    {
     "data": {
      "text/markdown": [
       "### Wyniki"
      ],
      "text/plain": [
       "<IPython.core.display.Markdown object>"
      ]
     },
     "metadata": {},
     "output_type": "display_data"
    },
    {
     "data": {
      "text/html": [
       "<div>\n",
       "<style scoped>\n",
       "    .dataframe tbody tr th:only-of-type {\n",
       "        vertical-align: middle;\n",
       "    }\n",
       "\n",
       "    .dataframe tbody tr th {\n",
       "        vertical-align: top;\n",
       "    }\n",
       "\n",
       "    .dataframe thead th {\n",
       "        text-align: right;\n",
       "    }\n",
       "</style>\n",
       "<table border=\"1\" class=\"dataframe\">\n",
       "  <thead>\n",
       "    <tr style=\"text-align: right;\">\n",
       "      <th></th>\n",
       "      <th>Biblioteczny 2x2</th>\n",
       "      <th>Własna implementacja 2x2</th>\n",
       "      <th>Biblioteczna 3x3</th>\n",
       "      <th>Własna implementacja 3x3</th>\n",
       "    </tr>\n",
       "  </thead>\n",
       "  <tbody>\n",
       "    <tr>\n",
       "      <th>&lt;0</th>\n",
       "      <td>49781</td>\n",
       "      <td>49781</td>\n",
       "      <td>49781</td>\n",
       "      <td>49781</td>\n",
       "    </tr>\n",
       "    <tr>\n",
       "      <th>==0</th>\n",
       "      <td>7</td>\n",
       "      <td>7</td>\n",
       "      <td>7</td>\n",
       "      <td>7</td>\n",
       "    </tr>\n",
       "    <tr>\n",
       "      <th>&gt;0</th>\n",
       "      <td>50212</td>\n",
       "      <td>50212</td>\n",
       "      <td>50212</td>\n",
       "      <td>50212</td>\n",
       "    </tr>\n",
       "  </tbody>\n",
       "</table>\n",
       "</div>"
      ],
      "text/plain": [
       "     Biblioteczny 2x2  Własna implementacja 2x2  Biblioteczna 3x3  \\\n",
       "<0              49781                     49781             49781   \n",
       "==0                 7                         7                 7   \n",
       ">0              50212                     50212             50212   \n",
       "\n",
       "     Własna implementacja 3x3  \n",
       "<0                      49781  \n",
       "==0                         7  \n",
       ">0                      50212  "
      ]
     },
     "metadata": {},
     "output_type": "display_data"
    },
    {
     "data": {
      "text/markdown": [
       "### Porównanie"
      ],
      "text/plain": [
       "<IPython.core.display.Markdown object>"
      ]
     },
     "metadata": {},
     "output_type": "display_data"
    },
    {
     "data": {
      "text/html": [
       "<div>\n",
       "<style scoped>\n",
       "    .dataframe tbody tr th:only-of-type {\n",
       "        vertical-align: middle;\n",
       "    }\n",
       "\n",
       "    .dataframe tbody tr th {\n",
       "        vertical-align: top;\n",
       "    }\n",
       "\n",
       "    .dataframe thead th {\n",
       "        text-align: right;\n",
       "    }\n",
       "</style>\n",
       "<table border=\"1\" class=\"dataframe\">\n",
       "  <thead>\n",
       "    <tr style=\"text-align: right;\">\n",
       "      <th></th>\n",
       "      <th>Biblioteczny 2x2</th>\n",
       "      <th>Własna implementacja 2x2</th>\n",
       "      <th>Biblioteczna 3x3</th>\n",
       "      <th>Własna implementacja 3x3</th>\n",
       "    </tr>\n",
       "  </thead>\n",
       "  <tbody>\n",
       "    <tr>\n",
       "      <th>Biblioteczny 2x2</th>\n",
       "      <td>/</td>\n",
       "      <td>(0, 0, 0)</td>\n",
       "      <td>(0, 0, 0)</td>\n",
       "      <td>(0, 0, 0)</td>\n",
       "    </tr>\n",
       "    <tr>\n",
       "      <th>Własna implementacja 2x2</th>\n",
       "      <td>(0, 0, 0)</td>\n",
       "      <td>/</td>\n",
       "      <td>(0, 0, 0)</td>\n",
       "      <td>(0, 0, 0)</td>\n",
       "    </tr>\n",
       "    <tr>\n",
       "      <th>Biblioteczna 3x3</th>\n",
       "      <td>(0, 0, 0)</td>\n",
       "      <td>(0, 0, 0)</td>\n",
       "      <td>/</td>\n",
       "      <td>(0, 0, 0)</td>\n",
       "    </tr>\n",
       "    <tr>\n",
       "      <th>Własna implementacja 3x3</th>\n",
       "      <td>(0, 0, 0)</td>\n",
       "      <td>(0, 0, 0)</td>\n",
       "      <td>(0, 0, 0)</td>\n",
       "      <td>/</td>\n",
       "    </tr>\n",
       "  </tbody>\n",
       "</table>\n",
       "</div>"
      ],
      "text/plain": [
       "                         Biblioteczny 2x2 Własna implementacja 2x2  \\\n",
       "Biblioteczny 2x2                        /                (0, 0, 0)   \n",
       "Własna implementacja 2x2        (0, 0, 0)                        /   \n",
       "Biblioteczna 3x3                (0, 0, 0)                (0, 0, 0)   \n",
       "Własna implementacja 3x3        (0, 0, 0)                (0, 0, 0)   \n",
       "\n",
       "                         Biblioteczna 3x3 Własna implementacja 3x3  \n",
       "Biblioteczny 2x2                (0, 0, 0)                (0, 0, 0)  \n",
       "Własna implementacja 2x2        (0, 0, 0)                (0, 0, 0)  \n",
       "Biblioteczna 3x3                        /                (0, 0, 0)  \n",
       "Własna implementacja 3x3        (0, 0, 0)                        /  "
      ]
     },
     "metadata": {},
     "output_type": "display_data"
    },
    {
     "data": {
      "text/markdown": [
       "## ε = 0.01"
      ],
      "text/plain": [
       "<IPython.core.display.Markdown object>"
      ]
     },
     "metadata": {},
     "output_type": "display_data"
    },
    {
     "data": {
      "text/markdown": [
       "### Wyniki"
      ],
      "text/plain": [
       "<IPython.core.display.Markdown object>"
      ]
     },
     "metadata": {},
     "output_type": "display_data"
    },
    {
     "data": {
      "text/html": [
       "<div>\n",
       "<style scoped>\n",
       "    .dataframe tbody tr th:only-of-type {\n",
       "        vertical-align: middle;\n",
       "    }\n",
       "\n",
       "    .dataframe tbody tr th {\n",
       "        vertical-align: top;\n",
       "    }\n",
       "\n",
       "    .dataframe thead th {\n",
       "        text-align: right;\n",
       "    }\n",
       "</style>\n",
       "<table border=\"1\" class=\"dataframe\">\n",
       "  <thead>\n",
       "    <tr style=\"text-align: right;\">\n",
       "      <th></th>\n",
       "      <th>Biblioteczny 2x2</th>\n",
       "      <th>Własna implementacja 2x2</th>\n",
       "      <th>Biblioteczna 3x3</th>\n",
       "      <th>Własna implementacja 3x3</th>\n",
       "    </tr>\n",
       "  </thead>\n",
       "  <tbody>\n",
       "    <tr>\n",
       "      <th>&lt;0</th>\n",
       "      <td>49785</td>\n",
       "      <td>49785</td>\n",
       "      <td>49785</td>\n",
       "      <td>49785</td>\n",
       "    </tr>\n",
       "    <tr>\n",
       "      <th>==0</th>\n",
       "      <td>1</td>\n",
       "      <td>1</td>\n",
       "      <td>1</td>\n",
       "      <td>1</td>\n",
       "    </tr>\n",
       "    <tr>\n",
       "      <th>&gt;0</th>\n",
       "      <td>50214</td>\n",
       "      <td>50214</td>\n",
       "      <td>50214</td>\n",
       "      <td>50214</td>\n",
       "    </tr>\n",
       "  </tbody>\n",
       "</table>\n",
       "</div>"
      ],
      "text/plain": [
       "     Biblioteczny 2x2  Własna implementacja 2x2  Biblioteczna 3x3  \\\n",
       "<0              49785                     49785             49785   \n",
       "==0                 1                         1                 1   \n",
       ">0              50214                     50214             50214   \n",
       "\n",
       "     Własna implementacja 3x3  \n",
       "<0                      49785  \n",
       "==0                         1  \n",
       ">0                      50214  "
      ]
     },
     "metadata": {},
     "output_type": "display_data"
    },
    {
     "data": {
      "text/markdown": [
       "### Porównanie"
      ],
      "text/plain": [
       "<IPython.core.display.Markdown object>"
      ]
     },
     "metadata": {},
     "output_type": "display_data"
    },
    {
     "data": {
      "text/html": [
       "<div>\n",
       "<style scoped>\n",
       "    .dataframe tbody tr th:only-of-type {\n",
       "        vertical-align: middle;\n",
       "    }\n",
       "\n",
       "    .dataframe tbody tr th {\n",
       "        vertical-align: top;\n",
       "    }\n",
       "\n",
       "    .dataframe thead th {\n",
       "        text-align: right;\n",
       "    }\n",
       "</style>\n",
       "<table border=\"1\" class=\"dataframe\">\n",
       "  <thead>\n",
       "    <tr style=\"text-align: right;\">\n",
       "      <th></th>\n",
       "      <th>Biblioteczny 2x2</th>\n",
       "      <th>Własna implementacja 2x2</th>\n",
       "      <th>Biblioteczna 3x3</th>\n",
       "      <th>Własna implementacja 3x3</th>\n",
       "    </tr>\n",
       "  </thead>\n",
       "  <tbody>\n",
       "    <tr>\n",
       "      <th>Biblioteczny 2x2</th>\n",
       "      <td>/</td>\n",
       "      <td>(0, 0, 0)</td>\n",
       "      <td>(0, 0, 0)</td>\n",
       "      <td>(0, 0, 0)</td>\n",
       "    </tr>\n",
       "    <tr>\n",
       "      <th>Własna implementacja 2x2</th>\n",
       "      <td>(0, 0, 0)</td>\n",
       "      <td>/</td>\n",
       "      <td>(0, 0, 0)</td>\n",
       "      <td>(0, 0, 0)</td>\n",
       "    </tr>\n",
       "    <tr>\n",
       "      <th>Biblioteczna 3x3</th>\n",
       "      <td>(0, 0, 0)</td>\n",
       "      <td>(0, 0, 0)</td>\n",
       "      <td>/</td>\n",
       "      <td>(0, 0, 0)</td>\n",
       "    </tr>\n",
       "    <tr>\n",
       "      <th>Własna implementacja 3x3</th>\n",
       "      <td>(0, 0, 0)</td>\n",
       "      <td>(0, 0, 0)</td>\n",
       "      <td>(0, 0, 0)</td>\n",
       "      <td>/</td>\n",
       "    </tr>\n",
       "  </tbody>\n",
       "</table>\n",
       "</div>"
      ],
      "text/plain": [
       "                         Biblioteczny 2x2 Własna implementacja 2x2  \\\n",
       "Biblioteczny 2x2                        /                (0, 0, 0)   \n",
       "Własna implementacja 2x2        (0, 0, 0)                        /   \n",
       "Biblioteczna 3x3                (0, 0, 0)                (0, 0, 0)   \n",
       "Własna implementacja 3x3        (0, 0, 0)                (0, 0, 0)   \n",
       "\n",
       "                         Biblioteczna 3x3 Własna implementacja 3x3  \n",
       "Biblioteczny 2x2                (0, 0, 0)                (0, 0, 0)  \n",
       "Własna implementacja 2x2        (0, 0, 0)                (0, 0, 0)  \n",
       "Biblioteczna 3x3                        /                (0, 0, 0)  \n",
       "Własna implementacja 3x3        (0, 0, 0)                        /  "
      ]
     },
     "metadata": {},
     "output_type": "display_data"
    },
    {
     "data": {
      "text/markdown": [
       "## ε = 0.001"
      ],
      "text/plain": [
       "<IPython.core.display.Markdown object>"
      ]
     },
     "metadata": {},
     "output_type": "display_data"
    },
    {
     "data": {
      "text/markdown": [
       "### Wyniki"
      ],
      "text/plain": [
       "<IPython.core.display.Markdown object>"
      ]
     },
     "metadata": {},
     "output_type": "display_data"
    },
    {
     "data": {
      "text/html": [
       "<div>\n",
       "<style scoped>\n",
       "    .dataframe tbody tr th:only-of-type {\n",
       "        vertical-align: middle;\n",
       "    }\n",
       "\n",
       "    .dataframe tbody tr th {\n",
       "        vertical-align: top;\n",
       "    }\n",
       "\n",
       "    .dataframe thead th {\n",
       "        text-align: right;\n",
       "    }\n",
       "</style>\n",
       "<table border=\"1\" class=\"dataframe\">\n",
       "  <thead>\n",
       "    <tr style=\"text-align: right;\">\n",
       "      <th></th>\n",
       "      <th>Biblioteczny 2x2</th>\n",
       "      <th>Własna implementacja 2x2</th>\n",
       "      <th>Biblioteczna 3x3</th>\n",
       "      <th>Własna implementacja 3x3</th>\n",
       "    </tr>\n",
       "  </thead>\n",
       "  <tbody>\n",
       "    <tr>\n",
       "      <th>&lt;0</th>\n",
       "      <td>49786</td>\n",
       "      <td>49786</td>\n",
       "      <td>49786</td>\n",
       "      <td>49786</td>\n",
       "    </tr>\n",
       "    <tr>\n",
       "      <th>==0</th>\n",
       "      <td>0</td>\n",
       "      <td>0</td>\n",
       "      <td>0</td>\n",
       "      <td>0</td>\n",
       "    </tr>\n",
       "    <tr>\n",
       "      <th>&gt;0</th>\n",
       "      <td>50214</td>\n",
       "      <td>50214</td>\n",
       "      <td>50214</td>\n",
       "      <td>50214</td>\n",
       "    </tr>\n",
       "  </tbody>\n",
       "</table>\n",
       "</div>"
      ],
      "text/plain": [
       "     Biblioteczny 2x2  Własna implementacja 2x2  Biblioteczna 3x3  \\\n",
       "<0              49786                     49786             49786   \n",
       "==0                 0                         0                 0   \n",
       ">0              50214                     50214             50214   \n",
       "\n",
       "     Własna implementacja 3x3  \n",
       "<0                      49786  \n",
       "==0                         0  \n",
       ">0                      50214  "
      ]
     },
     "metadata": {},
     "output_type": "display_data"
    },
    {
     "data": {
      "text/markdown": [
       "### Porównanie"
      ],
      "text/plain": [
       "<IPython.core.display.Markdown object>"
      ]
     },
     "metadata": {},
     "output_type": "display_data"
    },
    {
     "data": {
      "text/html": [
       "<div>\n",
       "<style scoped>\n",
       "    .dataframe tbody tr th:only-of-type {\n",
       "        vertical-align: middle;\n",
       "    }\n",
       "\n",
       "    .dataframe tbody tr th {\n",
       "        vertical-align: top;\n",
       "    }\n",
       "\n",
       "    .dataframe thead th {\n",
       "        text-align: right;\n",
       "    }\n",
       "</style>\n",
       "<table border=\"1\" class=\"dataframe\">\n",
       "  <thead>\n",
       "    <tr style=\"text-align: right;\">\n",
       "      <th></th>\n",
       "      <th>Biblioteczny 2x2</th>\n",
       "      <th>Własna implementacja 2x2</th>\n",
       "      <th>Biblioteczna 3x3</th>\n",
       "      <th>Własna implementacja 3x3</th>\n",
       "    </tr>\n",
       "  </thead>\n",
       "  <tbody>\n",
       "    <tr>\n",
       "      <th>Biblioteczny 2x2</th>\n",
       "      <td>/</td>\n",
       "      <td>(0, 0, 0)</td>\n",
       "      <td>(0, 0, 0)</td>\n",
       "      <td>(0, 0, 0)</td>\n",
       "    </tr>\n",
       "    <tr>\n",
       "      <th>Własna implementacja 2x2</th>\n",
       "      <td>(0, 0, 0)</td>\n",
       "      <td>/</td>\n",
       "      <td>(0, 0, 0)</td>\n",
       "      <td>(0, 0, 0)</td>\n",
       "    </tr>\n",
       "    <tr>\n",
       "      <th>Biblioteczna 3x3</th>\n",
       "      <td>(0, 0, 0)</td>\n",
       "      <td>(0, 0, 0)</td>\n",
       "      <td>/</td>\n",
       "      <td>(0, 0, 0)</td>\n",
       "    </tr>\n",
       "    <tr>\n",
       "      <th>Własna implementacja 3x3</th>\n",
       "      <td>(0, 0, 0)</td>\n",
       "      <td>(0, 0, 0)</td>\n",
       "      <td>(0, 0, 0)</td>\n",
       "      <td>/</td>\n",
       "    </tr>\n",
       "  </tbody>\n",
       "</table>\n",
       "</div>"
      ],
      "text/plain": [
       "                         Biblioteczny 2x2 Własna implementacja 2x2  \\\n",
       "Biblioteczny 2x2                        /                (0, 0, 0)   \n",
       "Własna implementacja 2x2        (0, 0, 0)                        /   \n",
       "Biblioteczna 3x3                (0, 0, 0)                (0, 0, 0)   \n",
       "Własna implementacja 3x3        (0, 0, 0)                (0, 0, 0)   \n",
       "\n",
       "                         Biblioteczna 3x3 Własna implementacja 3x3  \n",
       "Biblioteczny 2x2                (0, 0, 0)                (0, 0, 0)  \n",
       "Własna implementacja 2x2        (0, 0, 0)                (0, 0, 0)  \n",
       "Biblioteczna 3x3                        /                (0, 0, 0)  \n",
       "Własna implementacja 3x3        (0, 0, 0)                        /  "
      ]
     },
     "metadata": {},
     "output_type": "display_data"
    }
   ],
   "source": [
    "rnd = Random(42)\n",
    "points = [(rnd.uniform(-1000, 1000), rnd.uniform(-1000, 1000)) for _ in range(10 ** 5)]\n",
    "epsilon = 1e-2\n",
    "\n",
    "for epsilon in [1e2, 1e1, 1e0, 1e-1, 1e-2, 1e-3]:\n",
    "    display(Markdown(f\"## ε = {epsilon}\"))\n",
    "    results, comparison = compare_dets(points, epsilon)\n",
    "    display(Markdown(\"### Wyniki\"))\n",
    "    display(results)\n",
    "    display(Markdown(\"### Porównanie\"))\n",
    "    display(comparison)"
   ]
  },
  {
   "cell_type": "code",
   "execution_count": 6,
   "metadata": {},
   "outputs": [
    {
     "data": {
      "text/html": [
       "<div>\n",
       "<style scoped>\n",
       "    .dataframe tbody tr th:only-of-type {\n",
       "        vertical-align: middle;\n",
       "    }\n",
       "\n",
       "    .dataframe tbody tr th {\n",
       "        vertical-align: top;\n",
       "    }\n",
       "\n",
       "    .dataframe thead th {\n",
       "        text-align: right;\n",
       "    }\n",
       "</style>\n",
       "<table border=\"1\" class=\"dataframe\">\n",
       "  <thead>\n",
       "    <tr style=\"text-align: right;\">\n",
       "      <th></th>\n",
       "      <th>x</th>\n",
       "      <th>y</th>\n",
       "      <th>det_my_2x2</th>\n",
       "      <th>det_lib_2x2</th>\n",
       "      <th>det_my_3x3</th>\n",
       "      <th>det_lib_3x3</th>\n",
       "      <th>diff</th>\n",
       "    </tr>\n",
       "  </thead>\n",
       "  <tbody>\n",
       "    <tr>\n",
       "      <th>5</th>\n",
       "      <td>-562.724050</td>\n",
       "      <td>10.710576</td>\n",
       "      <td>77.593557</td>\n",
       "      <td>77.593557</td>\n",
       "      <td>77.593557</td>\n",
       "      <td>77.593557</td>\n",
       "      <td>1.421085e-14</td>\n",
       "    </tr>\n",
       "    <tr>\n",
       "      <th>7</th>\n",
       "      <td>299.768876</td>\n",
       "      <td>89.882961</td>\n",
       "      <td>149.689035</td>\n",
       "      <td>149.689035</td>\n",
       "      <td>149.689035</td>\n",
       "      <td>149.689035</td>\n",
       "      <td>2.842171e-14</td>\n",
       "    </tr>\n",
       "    <tr>\n",
       "      <th>12</th>\n",
       "      <td>914.426144</td>\n",
       "      <td>-326.810910</td>\n",
       "      <td>-745.164434</td>\n",
       "      <td>-745.164434</td>\n",
       "      <td>-745.164434</td>\n",
       "      <td>-745.164434</td>\n",
       "      <td>1.136868e-13</td>\n",
       "    </tr>\n",
       "    <tr>\n",
       "      <th>15</th>\n",
       "      <td>614.256547</td>\n",
       "      <td>459.463573</td>\n",
       "      <td>857.401492</td>\n",
       "      <td>857.401492</td>\n",
       "      <td>857.401492</td>\n",
       "      <td>857.401492</td>\n",
       "      <td>1.136868e-13</td>\n",
       "    </tr>\n",
       "    <tr>\n",
       "      <th>21</th>\n",
       "      <td>-544.203449</td>\n",
       "      <td>-421.224073</td>\n",
       "      <td>-788.127801</td>\n",
       "      <td>-788.127801</td>\n",
       "      <td>-788.127801</td>\n",
       "      <td>-788.127801</td>\n",
       "      <td>1.136868e-13</td>\n",
       "    </tr>\n",
       "    <tr>\n",
       "      <th>...</th>\n",
       "      <td>...</td>\n",
       "      <td>...</td>\n",
       "      <td>...</td>\n",
       "      <td>...</td>\n",
       "      <td>...</td>\n",
       "      <td>...</td>\n",
       "      <td>...</td>\n",
       "    </tr>\n",
       "    <tr>\n",
       "      <th>99971</th>\n",
       "      <td>458.746251</td>\n",
       "      <td>-853.744071</td>\n",
       "      <td>-1753.462766</td>\n",
       "      <td>-1753.462766</td>\n",
       "      <td>-1753.462766</td>\n",
       "      <td>-1753.462766</td>\n",
       "      <td>2.273737e-13</td>\n",
       "    </tr>\n",
       "    <tr>\n",
       "      <th>99977</th>\n",
       "      <td>-438.609164</td>\n",
       "      <td>-723.733294</td>\n",
       "      <td>-1403.705671</td>\n",
       "      <td>-1403.705671</td>\n",
       "      <td>-1403.705671</td>\n",
       "      <td>-1403.705671</td>\n",
       "      <td>2.273737e-13</td>\n",
       "    </tr>\n",
       "    <tr>\n",
       "      <th>99992</th>\n",
       "      <td>830.288978</td>\n",
       "      <td>30.439412</td>\n",
       "      <td>-22.250073</td>\n",
       "      <td>-22.250073</td>\n",
       "      <td>-22.250073</td>\n",
       "      <td>-22.250073</td>\n",
       "      <td>7.105427e-15</td>\n",
       "    </tr>\n",
       "    <tr>\n",
       "      <th>99997</th>\n",
       "      <td>-335.846120</td>\n",
       "      <td>-458.501354</td>\n",
       "      <td>-883.518096</td>\n",
       "      <td>-883.518096</td>\n",
       "      <td>-883.518096</td>\n",
       "      <td>-883.518096</td>\n",
       "      <td>1.136868e-13</td>\n",
       "    </tr>\n",
       "    <tr>\n",
       "      <th>99999</th>\n",
       "      <td>-804.472548</td>\n",
       "      <td>316.611974</td>\n",
       "      <td>713.571203</td>\n",
       "      <td>713.571203</td>\n",
       "      <td>713.571203</td>\n",
       "      <td>713.571203</td>\n",
       "      <td>1.136868e-13</td>\n",
       "    </tr>\n",
       "  </tbody>\n",
       "</table>\n",
       "<p>21042 rows × 7 columns</p>\n",
       "</div>"
      ],
      "text/plain": [
       "                x           y   det_my_2x2  det_lib_2x2   det_my_3x3  \\\n",
       "5     -562.724050   10.710576    77.593557    77.593557    77.593557   \n",
       "7      299.768876   89.882961   149.689035   149.689035   149.689035   \n",
       "12     914.426144 -326.810910  -745.164434  -745.164434  -745.164434   \n",
       "15     614.256547  459.463573   857.401492   857.401492   857.401492   \n",
       "21    -544.203449 -421.224073  -788.127801  -788.127801  -788.127801   \n",
       "...           ...         ...          ...          ...          ...   \n",
       "99971  458.746251 -853.744071 -1753.462766 -1753.462766 -1753.462766   \n",
       "99977 -438.609164 -723.733294 -1403.705671 -1403.705671 -1403.705671   \n",
       "99992  830.288978   30.439412   -22.250073   -22.250073   -22.250073   \n",
       "99997 -335.846120 -458.501354  -883.518096  -883.518096  -883.518096   \n",
       "99999 -804.472548  316.611974   713.571203   713.571203   713.571203   \n",
       "\n",
       "       det_lib_3x3          diff  \n",
       "5        77.593557  1.421085e-14  \n",
       "7       149.689035  2.842171e-14  \n",
       "12     -745.164434  1.136868e-13  \n",
       "15      857.401492  1.136868e-13  \n",
       "21     -788.127801  1.136868e-13  \n",
       "...            ...           ...  \n",
       "99971 -1753.462766  2.273737e-13  \n",
       "99977 -1403.705671  2.273737e-13  \n",
       "99992   -22.250073  7.105427e-15  \n",
       "99997  -883.518096  1.136868e-13  \n",
       "99999   713.571203  1.136868e-13  \n",
       "\n",
       "[21042 rows x 7 columns]"
      ]
     },
     "execution_count": 6,
     "metadata": {},
     "output_type": "execute_result"
    }
   ],
   "source": [
    "df = pd.DataFrame(points, columns=[\"x\", \"y\"])\n",
    "\n",
    "df[\"det_my_2x2\"] = det_my_2x2((df.x, df.y), (-1.0, 0.0), (1.0, 0.1))\n",
    "df[\"det_lib_2x2\"] = df[[\"x\", \"y\"]].apply(det_lib_2x2, args=((-1.0, 0.0), (1.0, 0.1)), axis=1)\n",
    "df[\"det_my_3x3\"] = det_my_3x3((df.x, df.y), (-1.0, 0.0), (1.0, 0.1))\n",
    "df[\"det_lib_3x3\"] =  df[[\"x\", \"y\"]].apply(det_lib_3x3, args=((-1.0, 0.0), (1.0, 0.1)), axis=1)\n",
    "\n",
    "df[\"diff\"] = np.abs(df[\"det_my_2x2\"] - df[\"det_my_3x3\"])\n",
    "\n",
    "df[df[\"det_my_2x2\"] != df[\"det_my_3x3\"]]"
   ]
  },
  {
   "cell_type": "code",
   "execution_count": 18,
   "metadata": {},
   "outputs": [
    {
     "data": {
      "application/vnd.jupyter.widget-view+json": {
       "model_id": "506763d41c6041adb867979db693bc39",
       "version_major": 2,
       "version_minor": 0
      },
      "text/plain": [
       "Canvas(toolbar=Toolbar(toolitems=[('Home', 'Reset original view', 'home', 'home'), ('Back', 'Back to previous …"
      ]
     },
     "metadata": {},
     "output_type": "display_data"
    },
    {
     "data": {
      "text/plain": [
       "<AxesSubplot:>"
      ]
     },
     "execution_count": 18,
     "metadata": {},
     "output_type": "execute_result"
    }
   ],
   "source": [
    "%matplotlib widget\n",
    "cols = [\"det_my_2x2\", \"det_lib_2x2\", \"det_my_3x3\", \"det_lib_3x3\"]\n",
    "diff = pd.DataFrame(0.0, index=cols, columns=list(reversed(cols)))\n",
    "for col1 in diff.index:\n",
    "    for col2 in diff.columns:\n",
    "        diff[col1][col2] = (df[col1] - df[col2]).abs().mean()\n",
    "\n",
    "# scale = -np.ceil(np.log10(diff[diff != 0].min().min())) + 1\n",
    "# diff *= 10 ** scale\n",
    "\n",
    "sns.heatmap(diff, annot=True)"
   ]
  },
  {
   "cell_type": "code",
   "execution_count": 17,
   "metadata": {},
   "outputs": [
    {
     "data": {
      "application/vnd.jupyter.widget-view+json": {
       "model_id": "ebbdcb466520482289104034681f0f4e",
       "version_major": 2,
       "version_minor": 0
      },
      "text/plain": [
       "Canvas(toolbar=Toolbar(toolitems=[('Home', 'Reset original view', 'home', 'home'), ('Back', 'Back to previous …"
      ]
     },
     "metadata": {},
     "output_type": "display_data"
    },
    {
     "data": {
      "text/plain": [
       "<AxesSubplot:xlabel='x', ylabel='y'>"
      ]
     },
     "execution_count": 17,
     "metadata": {},
     "output_type": "execute_result"
    }
   ],
   "source": [
    "%matplotlib widget\n",
    "df.plot.scatter(x=\"x\", \n",
    "                y=\"y\", \n",
    "                c=-df[\"diff\"], \n",
    "                colormap='viridis')"
   ]
  },
  {
   "cell_type": "code",
   "execution_count": 15,
   "metadata": {},
   "outputs": [
    {
     "data": {
      "application/vnd.jupyter.widget-view+json": {
       "model_id": "4b752ae6b7614daf9c93fcd5befbca98",
       "version_major": 2,
       "version_minor": 0
      },
      "text/plain": [
       "Canvas(toolbar=Toolbar(toolitems=[('Home', 'Reset original view', 'home', 'home'), ('Back', 'Back to previous …"
      ]
     },
     "metadata": {},
     "output_type": "display_data"
    },
    {
     "data": {
      "text/plain": [
       "<AxesSubplot:xlabel='x', ylabel='y'>"
      ]
     },
     "execution_count": 15,
     "metadata": {},
     "output_type": "execute_result"
    }
   ],
   "source": [
    "%matplotlib widget\n",
    "df.plot.scatter(x=\"x\", \n",
    "                y=\"y\", \n",
    "                c=df[\"det_my_2x2\"], \n",
    "                colormap='viridis')"
   ]
  },
  {
   "cell_type": "code",
   "execution_count": 48,
   "metadata": {},
   "outputs": [
    {
     "name": "stdout",
     "output_type": "stream",
     "text": [
      "len({ p == 0 }) =  527\n",
      "len({ p < 0 }) =  49536\n",
      "len({ p > 0 }) =  49937\n"
     ]
    },
    {
     "data": {
      "application/vnd.jupyter.widget-view+json": {
       "model_id": "765a851d5013472b8cf8adf62038e4c8",
       "version_major": 2,
       "version_minor": 0
      },
      "text/plain": [
       "Canvas(toolbar=Toolbar(toolitems=[('Home', 'Reset original view', 'home', 'home'), ('Back', 'Back to previous …"
      ]
     },
     "metadata": {},
     "output_type": "display_data"
    }
   ],
   "source": [
    "viz(points, det_my_2x2, 1e1)"
   ]
  },
  {
   "cell_type": "code",
   "execution_count": 28,
   "metadata": {},
   "outputs": [
    {
     "name": "stdout",
     "output_type": "stream",
     "text": [
      "len({ p == 0 }) =  4930\n",
      "len({ p < 0 }) =  47294\n",
      "len({ p > 0 }) =  47776\n"
     ]
    },
    {
     "data": {
      "application/vnd.jupyter.widget-view+json": {
       "model_id": "c082d6233f8f4165bf1918046379a1ac",
       "version_major": 2,
       "version_minor": 0
      },
      "text/plain": [
       "Canvas(toolbar=Toolbar(toolitems=[('Home', 'Reset original view', 'home', 'home'), ('Back', 'Back to previous …"
      ]
     },
     "metadata": {},
     "output_type": "display_data"
    }
   ],
   "source": [
    "rnd = Random(42)\n",
    "points = [(rnd.uniform(-1000, 1000), rnd.uniform(-1000, 1000)) for _ in range(10 ** 5)]\n",
    "\n",
    "def det(a, b, c):\n",
    "    return np.linalg.det(np.array([[a[0], a[1], 1], [b[0], b[1], 1], [c[0], c[1], 1]]))\n",
    "\n",
    "viz(points, det_my_2x2, 1e2)"
   ]
  },
  {
   "cell_type": "code",
   "execution_count": 20,
   "metadata": {},
   "outputs": [
    {
     "name": "stdout",
     "output_type": "stream",
     "text": [
      "len({ p == 0 }) =  7\n",
      "len({ p < 0 }) =  49781\n",
      "len({ p > 0 }) =  50212\n"
     ]
    },
    {
     "data": {
      "application/vnd.jupyter.widget-view+json": {
       "model_id": "8ae00153e45748658c39daaca14209ba",
       "version_major": 2,
       "version_minor": 0
      },
      "text/plain": [
       "Canvas(toolbar=Toolbar(toolitems=[('Home', 'Reset original view', 'home', 'home'), ('Back', 'Back to previous …"
      ]
     },
     "metadata": {},
     "output_type": "display_data"
    }
   ],
   "source": [
    "rnd = Random(42)\n",
    "points = [(rnd.uniform(-1000, 1000), rnd.uniform(-1000, 1000)) for _ in range(10 ** 5)]\n",
    "\n",
    "\n",
    "viz(points, det_lib_2x2, 1e-1)"
   ]
  },
  {
   "cell_type": "code",
   "execution_count": 18,
   "metadata": {},
   "outputs": [
    {
     "name": "stdout",
     "output_type": "stream",
     "text": [
      "len({ p == 0 }) =  4929\n",
      "len({ p < 0 }) =  47291\n",
      "len({ p > 0 }) =  47780\n"
     ]
    },
    {
     "data": {
      "application/vnd.jupyter.widget-view+json": {
       "model_id": "29603474863a471da4f2411359fbb3d2",
       "version_major": 2,
       "version_minor": 0
      },
      "text/plain": [
       "Canvas(toolbar=Toolbar(toolitems=[('Home', 'Reset original view', 'home', 'home'), ('Back', 'Back to previous …"
      ]
     },
     "metadata": {},
     "output_type": "display_data"
    }
   ],
   "source": [
    "rnd = Random(42)\n",
    "points = [(rnd.uniform(-10 ** 14, 10 ** 14), rnd.uniform(-10 ** 14, 10 ** 14)) for _ in range(10 ** 5)]\n",
    "\n",
    "\n",
    "# własne 2x2\n",
    "# biblioteczne 2x2\n",
    "# własne 3x3\n",
    "# biblioteczne 3x3\n",
    "\n",
    "viz(points, det, 10e12)"
   ]
  },
  {
   "cell_type": "code",
   "execution_count": 12,
   "metadata": {},
   "outputs": [
    {
     "name": "stdout",
     "output_type": "stream",
     "text": [
      "len({ p == 0 }) =  35\n",
      "len({ p < 0 }) =  487\n",
      "len({ p > 0 }) =  478\n"
     ]
    },
    {
     "data": {
      "application/vnd.jupyter.widget-view+json": {
       "model_id": "a7f0c4aeb7804167900bcd1979a56569",
       "version_major": 2,
       "version_minor": 0
      },
      "text/plain": [
       "Canvas(toolbar=Toolbar(toolitems=[('Home', 'Reset original view', 'home', 'home'), ('Back', 'Back to previous …"
      ]
     },
     "metadata": {},
     "output_type": "display_data"
    }
   ],
   "source": [
    "rnd = Random(42)\n",
    "points = []\n",
    "for _ in range(1000):\n",
    "#     r = rnd.uniform(0, 100)\n",
    "    r = 100.0\n",
    "    a = rnd.uniform(0, 2 * np.pi)\n",
    "    points.append((r * np.sin(a), r * np.cos(a)))\n",
    "\n",
    "def det(a, b, c):\n",
    "    return np.linalg.det(np.array([[a[0], a[1], 1], [b[0], b[1], 1], [c[0], c[1], 1]]))\n",
    "\n",
    "viz(points, det, 1e1)"
   ]
  }
 ],
 "metadata": {
  "kernelspec": {
   "display_name": "Python 3",
   "language": "python",
   "name": "python3"
  },
  "language_info": {
   "codemirror_mode": {
    "name": "ipython",
    "version": 3
   },
   "file_extension": ".py",
   "mimetype": "text/x-python",
   "name": "python",
   "nbconvert_exporter": "python",
   "pygments_lexer": "ipython3",
   "version": "3.7.8"
  }
 },
 "nbformat": 4,
 "nbformat_minor": 4
}
